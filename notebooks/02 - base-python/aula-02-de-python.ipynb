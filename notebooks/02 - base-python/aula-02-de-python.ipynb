{
 "cells": [
  {
   "cell_type": "markdown",
   "id": "a6cfb41d-aadd-49fa-b2f3-e5ae3ebca4ae",
   "metadata": {},
   "source": [
    "# Sha-bang"
   ]
  },
  {
   "cell_type": "code",
   "execution_count": 1,
   "id": "e9a58fcd-c09d-4bdc-89f9-af331a79ae83",
   "metadata": {},
   "outputs": [
    {
     "name": "stdout",
     "output_type": "stream",
     "text": [
      "Olá meu querido Tio Jobs\n"
     ]
    }
   ],
   "source": [
    "#!python3\n",
    "\n",
    "name = \"Tio Jobs\"\n",
    "\n",
    "print(f\"Olá meu querido {name}\")"
   ]
  },
  {
   "cell_type": "markdown",
   "id": "bf625683-a6bf-4288-ab7a-9f366db92b3d",
   "metadata": {},
   "source": [
    "---"
   ]
  },
  {
   "cell_type": "markdown",
   "id": "22d8d70d-6689-4413-a799-434062e8b36d",
   "metadata": {},
   "source": [
    "# Como fazer loop 'for' no Python?"
   ]
  },
  {
   "cell_type": "code",
   "execution_count": 3,
   "id": "b610060f-925e-46e1-a647-ee5f3c7e38e2",
   "metadata": {},
   "outputs": [
    {
     "name": "stdout",
     "output_type": "stream",
     "text": [
      "0\n",
      "1\n",
      "2\n"
     ]
    }
   ],
   "source": [
    "for i in range(3):\n",
    "    print(i)"
   ]
  },
  {
   "cell_type": "code",
   "execution_count": 5,
   "id": "6055bf23-3bc4-4bfe-a736-447063647de4",
   "metadata": {},
   "outputs": [
    {
     "name": "stdout",
     "output_type": "stream",
     "text": [
      "0 1 2 "
     ]
    }
   ],
   "source": [
    "for i in range(3):\n",
    "    print(i, end=' ')"
   ]
  },
  {
   "cell_type": "markdown",
   "id": "083f04cc-06ae-405b-b8ab-62fa65c7064d",
   "metadata": {},
   "source": [
    "---"
   ]
  },
  {
   "cell_type": "markdown",
   "id": "4b876076-ae07-4b6a-a889-b23c73eccb4f",
   "metadata": {},
   "source": [
    "# Multiplicação de strings"
   ]
  },
  {
   "cell_type": "code",
   "execution_count": 6,
   "id": "2005cb2c-6178-486e-8b81-1d624c68edf5",
   "metadata": {},
   "outputs": [
    {
     "name": "stdout",
     "output_type": "stream",
     "text": [
      "TioTioTio\n"
     ]
    }
   ],
   "source": [
    "name = \"Tio\"\n",
    "\n",
    "print(name * 3)"
   ]
  },
  {
   "cell_type": "code",
   "execution_count": 9,
   "id": "6c1e5caf-3a8e-49cd-8781-95d2174a1a28",
   "metadata": {},
   "outputs": [
    {
     "name": "stdout",
     "output_type": "stream",
     "text": [
      "IcaroIcaroIcaro\n"
     ]
    }
   ],
   "source": [
    "print(\"Icaro\" * 3)"
   ]
  },
  {
   "cell_type": "markdown",
   "id": "01da1a43-c947-4f4e-9e69-5dc4f0ceaa7e",
   "metadata": {},
   "source": [
    "---"
   ]
  },
  {
   "cell_type": "markdown",
   "id": "e9d5b5d9-7de4-40ad-a187-c05108bf0ede",
   "metadata": {},
   "source": [
    "# Comentários no Python"
   ]
  },
  {
   "cell_type": "code",
   "execution_count": 10,
   "id": "98527f84-4e54-4bbe-84b2-9d5451e7cd5b",
   "metadata": {},
   "outputs": [],
   "source": [
    "# Isso é um comentário de linha única no Python"
   ]
  },
  {
   "cell_type": "code",
   "execution_count": 11,
   "id": "3372e21a-fb55-4c2a-9f4a-2b80027936e6",
   "metadata": {},
   "outputs": [
    {
     "data": {
      "text/plain": [
       "'\\nTudo isso aqui\\né um comentário\\n'"
      ]
     },
     "execution_count": 11,
     "metadata": {},
     "output_type": "execute_result"
    }
   ],
   "source": [
    "\"\"\"\n",
    "Tudo isso aqui\n",
    "é um comentário\n",
    "\"\"\""
   ]
  },
  {
   "cell_type": "code",
   "execution_count": 12,
   "id": "c8ca94d9-a4e7-4c27-be79-5c9172586bba",
   "metadata": {},
   "outputs": [],
   "source": [
    "result = \"\"\"\n",
    "Erro ao enviar mensagem: \n",
    "Você clicou em um botão que não tem efeito nenhum.\n",
    "\"\"\""
   ]
  },
  {
   "cell_type": "code",
   "execution_count": 13,
   "id": "65000189-0d6d-431d-9cec-c64cc2ec646d",
   "metadata": {},
   "outputs": [
    {
     "name": "stdout",
     "output_type": "stream",
     "text": [
      "\n",
      "Erro ao enviar mensagem: \n",
      "Você clicou em um botão que não tem efeito nenhum.\n",
      "\n"
     ]
    }
   ],
   "source": [
    "print(result)"
   ]
  },
  {
   "cell_type": "code",
   "execution_count": 14,
   "id": "9aa895b9-89e8-4732-9bc3-c7230fa4affd",
   "metadata": {},
   "outputs": [],
   "source": [
    "name = \"Tio Jobs\""
   ]
  },
  {
   "cell_type": "code",
   "execution_count": 15,
   "id": "9fc52325-7dd0-497f-bb4d-5fbd31335d00",
   "metadata": {},
   "outputs": [],
   "source": [
    "result = f\"\"\"\n",
    "Aqui seria o meu\n",
    "textão de múltiplas linhas {name} e continua bla\n",
    "bla bla bla\n",
    "\"\"\""
   ]
  },
  {
   "cell_type": "code",
   "execution_count": 16,
   "id": "6bbdbb42-35e1-469c-bbbd-458f37b51f71",
   "metadata": {},
   "outputs": [
    {
     "name": "stdout",
     "output_type": "stream",
     "text": [
      "\n",
      "Aqui seria o meu\n",
      "textão de múltiplas linhas Tio Jobs e continua bla\n",
      "bla bla bla\n",
      "\n"
     ]
    }
   ],
   "source": [
    "print(result)"
   ]
  },
  {
   "cell_type": "markdown",
   "id": "78cab18e-a976-4c5b-b9c7-b9695004c7bf",
   "metadata": {},
   "source": [
    "---"
   ]
  },
  {
   "cell_type": "markdown",
   "id": "d782648d-68c5-4fd8-b076-5d2701638d21",
   "metadata": {},
   "source": [
    "# Como verificar os tipos de variáveis no Python"
   ]
  },
  {
   "cell_type": "code",
   "execution_count": 17,
   "id": "c974fedf-e52d-4808-b752-749469b9f5cf",
   "metadata": {},
   "outputs": [],
   "source": [
    "x = 15"
   ]
  },
  {
   "cell_type": "code",
   "execution_count": 18,
   "id": "09b4cda7-bf48-4738-896e-7713c9fa468a",
   "metadata": {},
   "outputs": [
    {
     "name": "stdout",
     "output_type": "stream",
     "text": [
      "<class 'int'>\n"
     ]
    }
   ],
   "source": [
    "print(type(x))"
   ]
  },
  {
   "cell_type": "markdown",
   "id": "3e7852bd-7a39-41d3-a3ef-5c6a518d3481",
   "metadata": {},
   "source": [
    "---"
   ]
  },
  {
   "cell_type": "markdown",
   "id": "950bf3f5-85a2-428c-9ab8-75f309fe3b87",
   "metadata": {},
   "source": [
    "# Entrada de Dados no Python"
   ]
  },
  {
   "cell_type": "code",
   "execution_count": 19,
   "id": "4c3ff8fa-3c88-407a-b351-ee4fdbec7b8f",
   "metadata": {},
   "outputs": [
    {
     "name": "stdin",
     "output_type": "stream",
     "text": [
      "Informe o seu lindo nome:  Tio Jobs\n"
     ]
    },
    {
     "name": "stdout",
     "output_type": "stream",
     "text": [
      "Seu lindo no é: Tio Jobs\n"
     ]
    }
   ],
   "source": [
    "name = input(\"Informe o seu lindo nome: \")\n",
    "\n",
    "print(f\"Seu lindo no é: {name}\")"
   ]
  },
  {
   "cell_type": "markdown",
   "id": "50fa5daa-ae57-42c6-b423-ab19af7ce901",
   "metadata": {},
   "source": [
    "---"
   ]
  },
  {
   "cell_type": "markdown",
   "id": "c60d6a56-9809-4c1d-be60-8fb373b59198",
   "metadata": {},
   "source": [
    "# Constantes no Python"
   ]
  },
  {
   "cell_type": "code",
   "execution_count": 20,
   "id": "23d251db-cfd0-4245-b20c-359865624f0d",
   "metadata": {},
   "outputs": [
    {
     "name": "stdin",
     "output_type": "stream",
     "text": [
      "Informe o raio da circunferência:  27.5\n"
     ]
    },
    {
     "name": "stdout",
     "output_type": "stream",
     "text": [
      "A área calculada da circunferência é: 2374.6250000000005 m2\n"
     ]
    }
   ],
   "source": [
    "PI = 3.14\n",
    "\n",
    "raio = float(input(\"Informe o raio da circunferência: \"))\n",
    "\n",
    "area = PI * raio * raio\n",
    "\n",
    "# ou\n",
    "# area = PI * pow(raio, 2)\n",
    "\n",
    "print(f\"A área calculada da circunferência é: {area} m2\")"
   ]
  },
  {
   "cell_type": "markdown",
   "id": "30350ae4-fe3e-4ff4-bf0c-b5cbbeff0bff",
   "metadata": {},
   "source": [
    "---"
   ]
  },
  {
   "cell_type": "code",
   "execution_count": null,
   "id": "203140bb-91d0-460b-b859-0d49d18a6721",
   "metadata": {},
   "outputs": [],
   "source": []
  }
 ],
 "metadata": {
  "kernelspec": {
   "display_name": "Python 3 (ipykernel)",
   "language": "python",
   "name": "python3"
  },
  "language_info": {
   "codemirror_mode": {
    "name": "ipython",
    "version": 3
   },
   "file_extension": ".py",
   "mimetype": "text/x-python",
   "name": "python",
   "nbconvert_exporter": "python",
   "pygments_lexer": "ipython3",
   "version": "3.11.6"
  }
 },
 "nbformat": 4,
 "nbformat_minor": 5
}
